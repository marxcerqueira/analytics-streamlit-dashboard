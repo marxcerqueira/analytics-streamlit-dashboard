{
 "cells": [
  {
   "cell_type": "markdown",
   "id": "2150c527",
   "metadata": {},
   "source": [
    "# House Sales Streamlit Dashboard"
   ]
  },
  {
   "cell_type": "markdown",
   "id": "0e4eaa02",
   "metadata": {},
   "source": []
  },
  {
   "cell_type": "markdown",
   "id": "e49c8a17",
   "metadata": {
    "ExecuteTime": {
     "end_time": "2022-03-20T12:59:39.865820Z",
     "start_time": "2022-03-20T12:59:39.860370Z"
    }
   },
   "source": [
    "## Project Solution Planning"
   ]
  },
  {
   "cell_type": "markdown",
   "id": "8d13831f",
   "metadata": {},
   "source": [
    "### Inputs"
   ]
  },
  {
   "cell_type": "markdown",
   "id": "a3259d13",
   "metadata": {},
   "source": [
    "1. Business problem:\n",
    "    - House Rocket is a digital platform whose business model is the purchase and sale of real estate using technology.\n",
    "    - My goal is to help the company find the best business opportunities in the real estate market. The CEO of House Rocket would like to maximize the company's revenue by finding good business opportunities.\n",
    "    - Their main strategy is to buy good homes in great locations at low prices and then resell them later at higher prices. The greater the difference between buying and selling, the greater the company's profit and therefore the greater its revenue.\n",
    "    - The dataset contains house sale prices for King County, which includes Seattle. It includes homes sold between May 2014 and May 2015."
   ]
  },
  {
   "cell_type": "markdown",
   "id": "7b6cf516",
   "metadata": {},
   "source": [
    "### Outputs"
   ]
  },
  {
   "cell_type": "markdown",
   "id": "16e0cfaa",
   "metadata": {},
   "source": [
    "1. A dashboard that CEO could access remotely that contains:\n",
    "    -  Which houses should the House Rocket CEO buy and at what purchase price?\n",
    "    - Once the house is in the company's possession, when is the best time to sell it and what would the sale price be?"
   ]
  },
  {
   "cell_type": "markdown",
   "id": "2954a3ec",
   "metadata": {},
   "source": [
    "### Tasks"
   ]
  },
  {
   "cell_type": "code",
   "execution_count": null,
   "id": "0d10d208",
   "metadata": {},
   "outputs": [],
   "source": []
  },
  {
   "cell_type": "markdown",
   "id": "manufactured-salon",
   "metadata": {},
   "source": [
    "# Imports"
   ]
  },
  {
   "cell_type": "code",
   "execution_count": 2,
   "id": "hydraulic-undergraduate",
   "metadata": {
    "ExecuteTime": {
     "end_time": "2022-03-20T13:42:36.011592Z",
     "start_time": "2022-03-20T13:42:34.074001Z"
    }
   },
   "outputs": [],
   "source": [
    "import pandas              as pd\n",
    "import numpy               as np\n",
    "import seaborn             as sns\n",
    "import plotly.express      as px\n",
    "import matplotlib.gridspec as gridspec\n",
    "import panel               as pn\n",
    "import ipywidgets          as widgets\n",
    "\n",
    "import os\n",
    "import folium\n",
    "\n",
    "from folium.plugins          import MarkerCluster\n",
    "from IPython.core.display    import HTML\n",
    "from IPython.display         import Image\n",
    "from geopy.geocoders         import Nominatim "
   ]
  },
  {
   "cell_type": "markdown",
   "id": "fac688a1",
   "metadata": {},
   "source": [
    "## Helper Functions"
   ]
  },
  {
   "cell_type": "code",
   "execution_count": 3,
   "id": "9f529872",
   "metadata": {
    "ExecuteTime": {
     "end_time": "2022-03-20T13:42:36.016950Z",
     "start_time": "2022-03-20T13:42:36.012976Z"
    }
   },
   "outputs": [],
   "source": [
    "def jupyter_settings():\n",
    "    %matplotlib inline\n",
    "    %pylab inline\n",
    "    \n",
    "    plt.style.use( 'bmh' )\n",
    "    plt.rcParams['figure.figsize'] = [25, 12]\n",
    "    plt.rcParams['font.size'] = 24\n",
    "    \n",
    "    display( HTML( '<style>.container { width:100% !important; }</style>') )\n",
    "    pd.options.display.max_columns = None\n",
    "    pd.options.display.max_rows = None\n",
    "    pd.set_option( 'display.expand_frame_repr', False )\n",
    "    \n",
    "    sns.set()"
   ]
  },
  {
   "cell_type": "code",
   "execution_count": 4,
   "id": "92290c57",
   "metadata": {
    "ExecuteTime": {
     "end_time": "2022-03-20T13:42:37.464950Z",
     "start_time": "2022-03-20T13:42:37.455874Z"
    }
   },
   "outputs": [
    {
     "name": "stdout",
     "output_type": "stream",
     "text": [
      "%pylab is deprecated, use %matplotlib inline and import the required libraries.\n",
      "Populating the interactive namespace from numpy and matplotlib\n"
     ]
    },
    {
     "data": {
      "text/html": [
       "<style>.container { width:100% !important; }</style>"
      ],
      "text/plain": [
       "<IPython.core.display.HTML object>"
      ]
     },
     "metadata": {},
     "output_type": "display_data"
    }
   ],
   "source": [
    "jupyter_settings()"
   ]
  },
  {
   "cell_type": "markdown",
   "id": "93770f29",
   "metadata": {},
   "source": [
    "## Loading Data"
   ]
  },
  {
   "cell_type": "markdown",
   "id": "c8fbb548",
   "metadata": {},
   "source": [
    "This dataset contains house sale prices for King County, which includes Seattle. It includes homes sold between May 2014 and May 2015.\n",
    "\n",
    "source:\n",
    "https://www.kaggle.com/harlfoxem/housesalesprediction"
   ]
  },
  {
   "cell_type": "markdown",
   "id": "8a52a411",
   "metadata": {},
   "source": [
    "# Data Description"
   ]
  },
  {
   "cell_type": "code",
   "execution_count": null,
   "id": "b15f23cb",
   "metadata": {},
   "outputs": [],
   "source": []
  },
  {
   "cell_type": "markdown",
   "id": "66954a95",
   "metadata": {},
   "source": [
    "## Data Dimension"
   ]
  },
  {
   "cell_type": "code",
   "execution_count": null,
   "id": "1f550ea8",
   "metadata": {},
   "outputs": [],
   "source": []
  },
  {
   "cell_type": "markdown",
   "id": "59533a59",
   "metadata": {
    "ExecuteTime": {
     "end_time": "2021-05-01T18:54:27.397816Z",
     "start_time": "2021-05-01T18:54:27.396048Z"
    }
   },
   "source": [
    "## Data Types"
   ]
  },
  {
   "cell_type": "code",
   "execution_count": null,
   "id": "f40defe9",
   "metadata": {},
   "outputs": [],
   "source": []
  },
  {
   "cell_type": "markdown",
   "id": "08a4404b",
   "metadata": {},
   "source": [
    "## Check NA values"
   ]
  },
  {
   "cell_type": "code",
   "execution_count": null,
   "id": "77f89a0e",
   "metadata": {},
   "outputs": [],
   "source": []
  },
  {
   "cell_type": "markdown",
   "id": "408b48bd",
   "metadata": {},
   "source": [
    "## Change Dtypes"
   ]
  },
  {
   "cell_type": "markdown",
   "id": "5eed0cee",
   "metadata": {},
   "source": [
    "## Descriptive Statistics"
   ]
  },
  {
   "cell_type": "code",
   "execution_count": null,
   "id": "99b5aad4",
   "metadata": {},
   "outputs": [],
   "source": []
  },
  {
   "cell_type": "markdown",
   "id": "1ca2a368",
   "metadata": {},
   "source": [
    "# Feature Engineering"
   ]
  },
  {
   "cell_type": "markdown",
   "id": "6c181230",
   "metadata": {},
   "source": [
    "## Feature Creation"
   ]
  },
  {
   "cell_type": "code",
   "execution_count": null,
   "id": "cfaca508",
   "metadata": {},
   "outputs": [],
   "source": []
  }
 ],
 "metadata": {
  "kernelspec": {
   "display_name": "Python 3 (ipykernel)",
   "language": "python",
   "name": "python3"
  },
  "language_info": {
   "codemirror_mode": {
    "name": "ipython",
    "version": 3
   },
   "file_extension": ".py",
   "mimetype": "text/x-python",
   "name": "python",
   "nbconvert_exporter": "python",
   "pygments_lexer": "ipython3",
   "version": "3.8.10"
  },
  "nbTranslate": {
   "displayLangs": [
    "*"
   ],
   "hotkey": "alt-t",
   "langInMainMenu": true,
   "sourceLang": "en",
   "targetLang": "fr",
   "useGoogleTranslate": true
  },
  "toc": {
   "base_numbering": 1,
   "nav_menu": {},
   "number_sections": true,
   "sideBar": true,
   "skip_h1_title": false,
   "title_cell": "Table of Contents",
   "title_sidebar": "Contents",
   "toc_cell": false,
   "toc_position": {},
   "toc_section_display": true,
   "toc_window_display": false
  }
 },
 "nbformat": 4,
 "nbformat_minor": 5
}
